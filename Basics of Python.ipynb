{
 "cells": [
  {
   "cell_type": "markdown",
   "id": "b6b93e2f-e8ae-47b1-883b-2a9a3607d8cf",
   "metadata": {},
   "source": [
    "#             Python Programming Assignment"
   ]
  },
  {
   "cell_type": "markdown",
   "id": "3330446f-75d5-47ca-89a0-49baf7904c47",
   "metadata": {},
   "source": [
    "### Exercise 1: Prime Numbers"
   ]
  },
  {
   "cell_type": "raw",
   "id": "2e86289c-f223-4597-abda-084d58a555f6",
   "metadata": {},
   "source": [
    "Write a Python program that checks whether a given number is prime or not. A prime number is a natural number greater than 1 that has no positive divisors other than 1 and itself."
   ]
  },
  {
   "cell_type": "code",
   "execution_count": 1,
   "id": "4fb051ec-fd62-4369-9ca9-4f92a5196012",
   "metadata": {},
   "outputs": [
    {
     "name": "stdin",
     "output_type": "stream",
     "text": [
      "Give a number 7\n"
     ]
    },
    {
     "name": "stdout",
     "output_type": "stream",
     "text": [
      "7 is a prime number\n"
     ]
    }
   ],
   "source": [
    "num=int(input('Give a number'))\n",
    "for i in range(2,num):\n",
    "    if  num%2==0:\n",
    "        print(num,'is not a prime number')\n",
    "        break\n",
    "else:\n",
    "    print(num,'is a prime number')\n"
   ]
  },
  {
   "cell_type": "markdown",
   "id": "bc4f9884-55d9-4058-b178-2a60086891d4",
   "metadata": {},
   "source": [
    "### Exercise 2: Product of Random Numbers"
   ]
  },
  {
   "cell_type": "raw",
   "id": "fd40f377-0b3c-4e4f-a169-3ceb55acde09",
   "metadata": {},
   "source": [
    "Develop a Python program that generates two random numbers and asks the user to enter the product of these numbers. The program should then check if the user's answer is correct and display an appropriate message."
   ]
  },
  {
   "cell_type": "code",
   "execution_count": 2,
   "id": "1f5aba80-7577-44bf-9726-7e8c4b7bec41",
   "metadata": {},
   "outputs": [
    {
     "name": "stdout",
     "output_type": "stream",
     "text": [
      "Enter the product of  2 and 7\n"
     ]
    },
    {
     "name": "stdin",
     "output_type": "stream",
     "text": [
      " 14\n"
     ]
    },
    {
     "name": "stdout",
     "output_type": "stream",
     "text": [
      "congratulation!, your answer is correct\n"
     ]
    }
   ],
   "source": [
    "import numpy as np\n",
    "a=np.random.randint(1,10)\n",
    "b=np.random.randint(1,10)\n",
    "print('Enter the product of ', a ,'and', b)\n",
    "ans=int(input())\n",
    "if ans==a*b:\n",
    "    print('congratulation!, your answer is correct')\n",
    "else:\n",
    "    print('Sorry! Your answer is wrong')\n",
    "\n"
   ]
  },
  {
   "cell_type": "markdown",
   "id": "d0e84868-2687-4767-bcc8-d7a24c684ddf",
   "metadata": {},
   "source": [
    "### Exercise 3: Squares of Even/Odd Numbers"
   ]
  },
  {
   "cell_type": "raw",
   "id": "88c6f68c-7d15-407e-a043-9d8964af82db",
   "metadata": {},
   "source": [
    "Create a Python script that prints the squares of all even or odd numbers within the range of 100 to 200. Choose either even or odd numbers and document your choice in the code."
   ]
  },
  {
   "cell_type": "code",
   "execution_count": 3,
   "id": "28173ef3-b117-4c2e-a27f-6d31fe851186",
   "metadata": {},
   "outputs": [
    {
     "name": "stdout",
     "output_type": "stream",
     "text": [
      "[10000, 10404, 10816, 11236, 11664, 12100, 12544, 12996, 13456, 13924, 14400, 14884, 15376, 15876, 16384, 16900, 17424, 17956, 18496, 19044, 19600, 20164, 20736, 21316, 21904, 22500, 23104, 23716, 24336, 24964, 25600, 26244, 26896, 27556, 28224, 28900, 29584, 30276, 30976, 31684, 32400, 33124, 33856, 34596, 35344, 36100, 36864, 37636, 38416, 39204, 40000]\n"
     ]
    }
   ],
   "source": [
    "#odd nummbers\n",
    "sqr_even=[]\n",
    "for i in range(100,201):\n",
    "    if i%2==0:\n",
    "       sqr_even.append(i**2)\n",
    "print(sqr_even)"
   ]
  },
  {
   "cell_type": "markdown",
   "id": "9419ca2d-0026-49ac-979c-5d361ca1d2ab",
   "metadata": {},
   "source": [
    "### Exercise 4: Hospital Billing System"
   ]
  },
  {
   "cell_type": "raw",
   "id": "1093c2ca-eb6e-4aa5-8e5a-1ba4a0e6a52b",
   "metadata": {},
   "source": [
    "A hospital charges its patients based on the following:\n",
    "\n",
    "· Room charges per day: ₹2,000\n",
    "\n",
    "· Doctor consultation fee (flat): ₹1,500\n",
    "\n",
    "· Lab test charges: Based on the number of tests taken. Each test costs ₹300\n",
    "\n",
    "· Medicine charges: Total cost of medicines provided\n",
    "\n",
    "· Discount: If the total bill (before discount) exceeds ₹10,000, a 10% discount is applied\n",
    "\n",
    "Write a Python program to calculate the final bill for a patient who:\n",
    "\n",
    "· Stayed for 4 days\n",
    "\n",
    "· Had 3 lab tests\n",
    "\n",
    "· Had medicine charges of ₹2,400"
   ]
  },
  {
   "cell_type": "code",
   "execution_count": 4,
   "id": "876d3cdd-ccc2-45ed-b482-0ab9bad19945",
   "metadata": {},
   "outputs": [
    {
     "name": "stdout",
     "output_type": "stream",
     "text": [
      "\n",
      "--- BILL DETAILS ---\n",
      "Room Charge =  8000\n",
      "Consultation =  1500\n",
      "Lab Test Charge =  900\n",
      "Medicine Charge =  2400\n",
      "Total Bill =  12800\n",
      "Discount Applied = 1280\n",
      "Final Bill =  11520\n"
     ]
    }
   ],
   "source": [
    "Room =4*2000\n",
    "consultation=1500\n",
    "Lab=3*300\n",
    "Medicine=2400\n",
    "Total=Room+consultation+Lab+Medicine\n",
    "print(\"\\n--- BILL DETAILS ---\")\n",
    "print('Room Charge = ',Room)\n",
    "print('Consultation = ', consultation)\n",
    "print('Lab Test Charge = ',Lab)\n",
    "print('Medicine Charge = ', Medicine)\n",
    "print('Total Bill = ', Total)\n",
    "Discount=0\n",
    "if Total>10000:\n",
    "    Discount=round((10/100)*Total)\n",
    "    print('Discount Applied =',Discount)\n",
    "final_bill=round(Total-Discount)\n",
    "print('Final Bill = ',final_bill)\n",
    "\n",
    "\n"
   ]
  },
  {
   "cell_type": "code",
   "execution_count": null,
   "id": "88234e2f-7fcf-4140-9a2e-5737350d357c",
   "metadata": {},
   "outputs": [],
   "source": []
  }
 ],
 "metadata": {
  "kernelspec": {
   "display_name": "Python 3 (ipykernel)",
   "language": "python",
   "name": "python3"
  },
  "language_info": {
   "codemirror_mode": {
    "name": "ipython",
    "version": 3
   },
   "file_extension": ".py",
   "mimetype": "text/x-python",
   "name": "python",
   "nbconvert_exporter": "python",
   "pygments_lexer": "ipython3",
   "version": "3.13.5"
  }
 },
 "nbformat": 4,
 "nbformat_minor": 5
}
