{
 "cells": [
  {
   "cell_type": "markdown",
   "id": "10d5c2f6-9465-46c7-9a98-40f58e8060c9",
   "metadata": {},
   "source": [
    "# Python Assignment: Data Structures,Functions, Numpy & Pandas"
   ]
  },
  {
   "cell_type": "markdown",
   "id": "bcce6df8-e6d9-4bb3-b60f-f91f0ca7a12c",
   "metadata": {},
   "source": [
    "### Section A: Data Structures & Control Structures"
   ]
  },
  {
   "cell_type": "raw",
   "id": "e6d65c4d-09db-4719-a596-48836cb7e2ca",
   "metadata": {},
   "source": [
    "1. Create a list of 5 integers. Perform and print the result of the following operations:append, extend, insert, remove, pop, clear, index, count, sort, and reverse."
   ]
  },
  {
   "cell_type": "code",
   "execution_count": 1,
   "id": "c0b85920-aa05-40e0-be4c-4ab45cb95350",
   "metadata": {},
   "outputs": [],
   "source": [
    "my_list=[2,4,5,9,1]\n"
   ]
  },
  {
   "cell_type": "code",
   "execution_count": 2,
   "id": "18ce4427-fec8-4dfa-a1a7-15cd5fa03b8f",
   "metadata": {},
   "outputs": [
    {
     "data": {
      "text/plain": [
       "[2, 4, 5, 9, 1, 8]"
      ]
     },
     "execution_count": 2,
     "metadata": {},
     "output_type": "execute_result"
    }
   ],
   "source": [
    "## append\n",
    "my_list.append(8)\n",
    "my_list"
   ]
  },
  {
   "cell_type": "code",
   "execution_count": 3,
   "id": "a4528fd3-77d3-4d13-abe3-85dccd74f4e5",
   "metadata": {},
   "outputs": [
    {
     "data": {
      "text/plain": [
       "[2, 4, 5, 9, 1, 8, 2, 7]"
      ]
     },
     "execution_count": 3,
     "metadata": {},
     "output_type": "execute_result"
    }
   ],
   "source": [
    "## extend\n",
    "my_list.extend([2,7])\n",
    "my_list"
   ]
  },
  {
   "cell_type": "code",
   "execution_count": 4,
   "id": "620f84ad-fc60-4103-80f6-a6adb01bdb96",
   "metadata": {},
   "outputs": [
    {
     "data": {
      "text/plain": [
       "[2, 4, 5, 9, 1, 8, 3, 2, 7]"
      ]
     },
     "execution_count": 4,
     "metadata": {},
     "output_type": "execute_result"
    }
   ],
   "source": [
    "## insert\n",
    "my_list.insert(6,3)\n",
    "my_list"
   ]
  },
  {
   "cell_type": "code",
   "execution_count": 5,
   "id": "a328beda-7c71-4dce-9d23-cac3db8e0187",
   "metadata": {},
   "outputs": [
    {
     "data": {
      "text/plain": [
       "[2, 4, 5, 1, 8, 3, 2, 7]"
      ]
     },
     "execution_count": 5,
     "metadata": {},
     "output_type": "execute_result"
    }
   ],
   "source": [
    "## remove\n",
    "my_list.remove(9)\n",
    "my_list"
   ]
  },
  {
   "cell_type": "code",
   "execution_count": 6,
   "id": "f06e5880-6515-4366-84a5-ecdd0d1a7219",
   "metadata": {},
   "outputs": [
    {
     "data": {
      "text/plain": [
       "5"
      ]
     },
     "execution_count": 6,
     "metadata": {},
     "output_type": "execute_result"
    }
   ],
   "source": [
    "## POP\n",
    "my_list.pop(2)"
   ]
  },
  {
   "cell_type": "code",
   "execution_count": 7,
   "id": "c824c0c4-096d-42e0-9df2-0d656c42984a",
   "metadata": {},
   "outputs": [
    {
     "data": {
      "text/plain": [
       "[2, 4, 1, 8, 3, 2, 7]"
      ]
     },
     "execution_count": 7,
     "metadata": {},
     "output_type": "execute_result"
    }
   ],
   "source": [
    "my_list"
   ]
  },
  {
   "cell_type": "code",
   "execution_count": 8,
   "id": "10fedeba-b9ae-48bc-a46a-3f4ff94e40c0",
   "metadata": {},
   "outputs": [
    {
     "data": {
      "text/plain": [
       "4"
      ]
     },
     "execution_count": 8,
     "metadata": {},
     "output_type": "execute_result"
    }
   ],
   "source": [
    "## index\n",
    "my_list.index(3)"
   ]
  },
  {
   "cell_type": "code",
   "execution_count": 9,
   "id": "f4cb8dc3-8bbd-4c34-8a4d-c740dbfd503e",
   "metadata": {},
   "outputs": [
    {
     "data": {
      "text/plain": [
       "2"
      ]
     },
     "execution_count": 9,
     "metadata": {},
     "output_type": "execute_result"
    }
   ],
   "source": [
    "##count\n",
    "my_list.count(2)"
   ]
  },
  {
   "cell_type": "code",
   "execution_count": 10,
   "id": "42a3ab37-a798-4d5e-902a-338827a9acd2",
   "metadata": {},
   "outputs": [
    {
     "data": {
      "text/plain": [
       "[1, 2, 2, 3, 4, 7, 8]"
      ]
     },
     "execution_count": 10,
     "metadata": {},
     "output_type": "execute_result"
    }
   ],
   "source": [
    "## sort\n",
    "my_list.sort()\n",
    "my_list"
   ]
  },
  {
   "cell_type": "code",
   "execution_count": 11,
   "id": "594491d9-6d39-4bce-b9d0-96ab243841c7",
   "metadata": {},
   "outputs": [
    {
     "data": {
      "text/plain": [
       "[8, 7, 4, 3, 2, 2, 1]"
      ]
     },
     "execution_count": 11,
     "metadata": {},
     "output_type": "execute_result"
    }
   ],
   "source": [
    "## Reverse\n",
    "my_list.reverse()\n",
    "my_list"
   ]
  },
  {
   "cell_type": "code",
   "execution_count": 12,
   "id": "8ffe95c9-bf64-48a5-90d4-da06716a4cc3",
   "metadata": {},
   "outputs": [
    {
     "data": {
      "text/plain": [
       "[]"
      ]
     },
     "execution_count": 12,
     "metadata": {},
     "output_type": "execute_result"
    }
   ],
   "source": [
    "## clear\n",
    "my_list.clear()\n",
    "my_list"
   ]
  },
  {
   "cell_type": "raw",
   "id": "b35267e3-9034-4ace-b9a1-daf452bc0538",
   "metadata": {},
   "source": [
    "2. Create a tuple that stores 3 student names. Try changing the second name in the tuple.What happens? Explain why."
   ]
  },
  {
   "cell_type": "code",
   "execution_count": 13,
   "id": "fc013ab4-77e3-4793-bf99-ade0448fbac7",
   "metadata": {},
   "outputs": [
    {
     "data": {
      "text/plain": [
       "('Arya', 'Amrith', 'Sam')"
      ]
     },
     "execution_count": 13,
     "metadata": {},
     "output_type": "execute_result"
    }
   ],
   "source": [
    "## creeate tuple\n",
    "student=('Arya','Amrith','Sam')\n",
    "student"
   ]
  },
  {
   "cell_type": "code",
   "execution_count": 14,
   "id": "e9a0056e-2985-4125-b464-da3ece614566",
   "metadata": {},
   "outputs": [],
   "source": [
    "## try change  \n",
    "#student[1]='Renu'\n",
    "# It will raise an error"
   ]
  },
  {
   "cell_type": "raw",
   "id": "a1154b47-a08e-4df9-aa87-e27c7c2ce7c9",
   "metadata": {},
   "source": [
    "Tuples are immutable. Once it is created, it is not possible to perform functions like change, add, or remove in a tuple"
   ]
  },
  {
   "cell_type": "raw",
   "id": "275bef49-807c-4d8b-b0ba-c7ae4ce006c2",
   "metadata": {},
   "source": [
    "3. Create a set of integers with some duplicate values. Print the set and explain the output."
   ]
  },
  {
   "cell_type": "code",
   "execution_count": 15,
   "id": "309f8675-c86c-4ef8-9138-1682d47093ac",
   "metadata": {},
   "outputs": [
    {
     "data": {
      "text/plain": [
       "{1, 2, 3, 4, 6, 9}"
      ]
     },
     "execution_count": 15,
     "metadata": {},
     "output_type": "execute_result"
    }
   ],
   "source": [
    "set_int={1,3,2,4,6,2,9,}\n",
    "set_int"
   ]
  },
  {
   "cell_type": "raw",
   "id": "5f629b3c-cac8-4a96-ad94-e1c2ead091e2",
   "metadata": {},
   "source": [
    "In the output, duplicates are removed, and order is not maintained because sets are unordered and store unique values."
   ]
  },
  {
   "cell_type": "raw",
   "id": "c2b6ddf6-aaf3-40a1-a290-40337ec4c484",
   "metadata": {},
   "source": [
    "4. Create a dictionary with the keys: 'name', 'age', and 'city'. Update the age and add a new key 'email'. Print the final dictionary."
   ]
  },
  {
   "cell_type": "code",
   "execution_count": 16,
   "id": "47a71a36-8838-4fe4-83a1-b465188faff1",
   "metadata": {},
   "outputs": [
    {
     "data": {
      "text/plain": [
       "{'Name': ['Anu', 'Manav', 'Gouri'],\n",
       " 'Age': [20, 21, 22],\n",
       " 'City': ['Bangalore', 'Pune', 'Delhi']}"
      ]
     },
     "execution_count": 16,
     "metadata": {},
     "output_type": "execute_result"
    }
   ],
   "source": [
    "my_dict={'Name':['Anu','Manav','Gouri'],'Age':[20,21,22],'City':['Bangalore','Pune','Delhi']}\n",
    "my_dict\n"
   ]
  },
  {
   "cell_type": "code",
   "execution_count": 17,
   "id": "6d3e9335-db5d-4c37-804f-e439402bd168",
   "metadata": {},
   "outputs": [
    {
     "data": {
      "text/plain": [
       "{'Name': ['Anu', 'Manav', 'Gouri'],\n",
       " 'Age': [23, 21, 22],\n",
       " 'City': ['Bangalore', 'Pune', 'Delhi'],\n",
       " 'Email': ['anu@gmail.com', 'manav34@yahoo.com', 'gouri22@gmail.com']}"
      ]
     },
     "execution_count": 17,
     "metadata": {},
     "output_type": "execute_result"
    }
   ],
   "source": [
    "my_dict['Age'][0]=23\n",
    "my_dict['Email']=['anu@gmail.com','manav34@yahoo.com','gouri22@gmail.com']\n",
    "my_dict"
   ]
  },
  {
   "cell_type": "raw",
   "id": "2e1fb9e5-bb8a-4d57-b9e1-050e7c252c6d",
   "metadata": {},
   "source": [
    "5. Write a script that checks if a person is eligible to vote (age ≥ 18). Take age as a variable and print the appropriate message."
   ]
  },
  {
   "cell_type": "code",
   "execution_count": 18,
   "id": "117a1ff7-665f-4f09-8d1c-5700a1895bce",
   "metadata": {},
   "outputs": [
    {
     "name": "stdin",
     "output_type": "stream",
     "text": [
      "Enter Age: 22\n"
     ]
    },
    {
     "name": "stdout",
     "output_type": "stream",
     "text": [
      "You are 22 years old and eligible to vote \n"
     ]
    }
   ],
   "source": [
    "age=int(input('Enter Age:'))\n",
    "if age>=18:\n",
    "    print('You are',age,'years old and eligible to vote ')\n",
    "else:\n",
    "    print('Sorry, you are',age,'years old and not eligible to vote')"
   ]
  },
  {
   "cell_type": "raw",
   "id": "f2e0cfdc-b824-4730-a9c2-6bd7aa9d9f4e",
   "metadata": {},
   "source": [
    "6. Given a 'marks' variable, print the grade: - 90 and above: 'A' - 75–89: 'B' - 50–74: 'C' - Below 50: 'Fail'"
   ]
  },
  {
   "cell_type": "code",
   "execution_count": 19,
   "id": "c6426ed6-b4e9-45a5-8136-82908d653732",
   "metadata": {},
   "outputs": [
    {
     "name": "stdout",
     "output_type": "stream",
     "text": [
      "Marks: 88  Grade: B\n",
      "Marks: 92  Grade: A\n",
      "Marks: 41  Grade: FAIL\n",
      "Marks: 63  Grade: C\n",
      "Marks: 76  Grade: B\n",
      "Marks: 56  Grade: C\n"
     ]
    }
   ],
   "source": [
    "marks=[88,92,41,63,76,56]\n",
    "for i in marks:\n",
    "    if i>=90:\n",
    "        grade='A'\n",
    "    elif i>=75:\n",
    "        grade='B'\n",
    "    elif i>=50:\n",
    "        grade='C'\n",
    "    else:\n",
    "        grade='FAIL'\n",
    "    print('Marks:',i,' Grade:',grade)"
   ]
  },
  {
   "cell_type": "raw",
   "id": "20c587c2-c97b-455c-b110-9a4f1d4cc36d",
   "metadata": {},
   "source": [
    "7. Given a number, check if it's positive, and if it is also even. If not positive, print if it's zero or negative."
   ]
  },
  {
   "cell_type": "code",
   "execution_count": 20,
   "id": "b73da647-49a0-4527-a687-aa0953f97cd1",
   "metadata": {},
   "outputs": [
    {
     "name": "stdin",
     "output_type": "stream",
     "text": [
      "Enter a number: 9\n"
     ]
    },
    {
     "name": "stdout",
     "output_type": "stream",
     "text": [
      "9 is positive and it is odd\n"
     ]
    }
   ],
   "source": [
    "Num=int(input('Enter a number:'))\n",
    "if Num>0:\n",
    "    if Num%2==0:\n",
    "        print(Num,'is positive and it is even')\n",
    "    else:\n",
    "        print(Num,'is positive and it is odd')\n",
    "elif Num==0:\n",
    "    print('Number is Zero')\n",
    "else:\n",
    "    print(Num,'is a negative number')\n"
   ]
  },
  {
   "cell_type": "markdown",
   "id": "09ccd15f-479f-4f89-b913-79002235d2f4",
   "metadata": {},
   "source": [
    "### Section B: Numpy"
   ]
  },
  {
   "cell_type": "raw",
   "id": "b3b62070-4b81-47ca-904a-87cc9225eeb1",
   "metadata": {},
   "source": [
    "8. Create:\n",
    "- A scalar using np.array(5)\n",
    "- A 1D array with values 1 to 5 \n",
    "- A 2D array (2x3) with values from 10 to 60 in steps of 10"
   ]
  },
  {
   "cell_type": "code",
   "execution_count": 21,
   "id": "1c39b630-cf7d-4dc0-a1ac-4d33b8c57b94",
   "metadata": {},
   "outputs": [],
   "source": [
    "import numpy as np"
   ]
  },
  {
   "cell_type": "code",
   "execution_count": 22,
   "id": "4bf07fa6-046b-4280-b622-40ea25045f22",
   "metadata": {},
   "outputs": [
    {
     "data": {
      "text/plain": [
       "array(5)"
      ]
     },
     "execution_count": 22,
     "metadata": {},
     "output_type": "execute_result"
    }
   ],
   "source": [
    "## Scalar\n",
    "scalar=np.array(5)\n",
    "scalar"
   ]
  },
  {
   "cell_type": "code",
   "execution_count": 23,
   "id": "d3b3b615-195e-4c7e-b202-9b106600f713",
   "metadata": {},
   "outputs": [
    {
     "data": {
      "text/plain": [
       "0"
      ]
     },
     "execution_count": 23,
     "metadata": {},
     "output_type": "execute_result"
    }
   ],
   "source": [
    "scalar.ndim"
   ]
  },
  {
   "cell_type": "code",
   "execution_count": 24,
   "id": "a22fc6b4-4695-4177-ac7d-df1528888ead",
   "metadata": {},
   "outputs": [
    {
     "data": {
      "text/plain": [
       "array([1, 2, 3, 4, 5])"
      ]
     },
     "execution_count": 24,
     "metadata": {},
     "output_type": "execute_result"
    }
   ],
   "source": [
    "# 1D\n",
    "One_dim=np.arange(1,6)\n",
    "One_dim"
   ]
  },
  {
   "cell_type": "code",
   "execution_count": 25,
   "id": "7c8a16a8-fa6b-4ee7-ae26-1ae0f5390f51",
   "metadata": {},
   "outputs": [
    {
     "data": {
      "text/plain": [
       "1"
      ]
     },
     "execution_count": 25,
     "metadata": {},
     "output_type": "execute_result"
    }
   ],
   "source": [
    "One_dim.ndim"
   ]
  },
  {
   "cell_type": "code",
   "execution_count": 26,
   "id": "0a02acef-f11f-419d-baf5-21f69b139526",
   "metadata": {},
   "outputs": [
    {
     "data": {
      "text/plain": [
       "array([[10, 20, 30],\n",
       "       [40, 50, 60]])"
      ]
     },
     "execution_count": 26,
     "metadata": {},
     "output_type": "execute_result"
    }
   ],
   "source": [
    "## 2D\n",
    "Two_dim=np.arange(10,61,10).reshape(2,3)\n",
    "Two_dim"
   ]
  },
  {
   "cell_type": "code",
   "execution_count": 27,
   "id": "11150986-d770-43a9-b4ba-087588f7397c",
   "metadata": {},
   "outputs": [
    {
     "data": {
      "text/plain": [
       "2"
      ]
     },
     "execution_count": 27,
     "metadata": {},
     "output_type": "execute_result"
    }
   ],
   "source": [
    "Two_dim.ndim"
   ]
  },
  {
   "cell_type": "raw",
   "id": "58f932df-34af-4618-9926-42c357d87ffb",
   "metadata": {},
   "source": [
    "9. Generate a 4x4 Numpy array of random integers between 0 and 100 using np.random.randint()."
   ]
  },
  {
   "cell_type": "code",
   "execution_count": 28,
   "id": "72f29579-fad2-4dab-a949-a6220701cba7",
   "metadata": {},
   "outputs": [
    {
     "data": {
      "text/plain": [
       "array([[98, 64, 97,  1],\n",
       "       [ 8, 29, 25, 17],\n",
       "       [87, 43, 69, 69],\n",
       "       [87,  0, 51, 39]], dtype=int32)"
      ]
     },
     "execution_count": 28,
     "metadata": {},
     "output_type": "execute_result"
    }
   ],
   "source": [
    "##np.random.randint(0,100,16).reshape(4,4)\n",
    "np.random.randint(0,100,size=(4,4))"
   ]
  },
  {
   "cell_type": "raw",
   "id": "8a9c809c-25e3-49be-b760-2cb6600b4618",
   "metadata": {},
   "source": [
    "10. Create a 2D numpy array of shape (3x3). Convert it into a pandas DataFrame and add column names: 'A', 'B', 'C'."
   ]
  },
  {
   "cell_type": "code",
   "execution_count": 29,
   "id": "543362c2-0824-4b0d-aa88-bc99c178c39a",
   "metadata": {},
   "outputs": [
    {
     "data": {
      "text/plain": [
       "array([[2, 4, 1],\n",
       "       [8, 7, 6],\n",
       "       [5, 2, 1]])"
      ]
     },
     "execution_count": 29,
     "metadata": {},
     "output_type": "execute_result"
    }
   ],
   "source": [
    "Two_D=np.array([[2,4,1],[8,7,6],[5,2,1]])\n",
    "Two_D"
   ]
  },
  {
   "cell_type": "code",
   "execution_count": 30,
   "id": "97938266-24a0-429f-890c-cd9d980ed813",
   "metadata": {},
   "outputs": [
    {
     "data": {
      "text/html": [
       "<div>\n",
       "<style scoped>\n",
       "    .dataframe tbody tr th:only-of-type {\n",
       "        vertical-align: middle;\n",
       "    }\n",
       "\n",
       "    .dataframe tbody tr th {\n",
       "        vertical-align: top;\n",
       "    }\n",
       "\n",
       "    .dataframe thead th {\n",
       "        text-align: right;\n",
       "    }\n",
       "</style>\n",
       "<table border=\"1\" class=\"dataframe\">\n",
       "  <thead>\n",
       "    <tr style=\"text-align: right;\">\n",
       "      <th></th>\n",
       "      <th>A</th>\n",
       "      <th>B</th>\n",
       "      <th>C</th>\n",
       "    </tr>\n",
       "  </thead>\n",
       "  <tbody>\n",
       "    <tr>\n",
       "      <th>0</th>\n",
       "      <td>2</td>\n",
       "      <td>4</td>\n",
       "      <td>1</td>\n",
       "    </tr>\n",
       "    <tr>\n",
       "      <th>1</th>\n",
       "      <td>8</td>\n",
       "      <td>7</td>\n",
       "      <td>6</td>\n",
       "    </tr>\n",
       "    <tr>\n",
       "      <th>2</th>\n",
       "      <td>5</td>\n",
       "      <td>2</td>\n",
       "      <td>1</td>\n",
       "    </tr>\n",
       "  </tbody>\n",
       "</table>\n",
       "</div>"
      ],
      "text/plain": [
       "   A  B  C\n",
       "0  2  4  1\n",
       "1  8  7  6\n",
       "2  5  2  1"
      ]
     },
     "execution_count": 30,
     "metadata": {},
     "output_type": "execute_result"
    }
   ],
   "source": [
    "import pandas as pd\n",
    "Df=pd.DataFrame(Two_D,columns=['A','B','C'])\n",
    "Df"
   ]
  },
  {
   "cell_type": "markdown",
   "id": "7e49b4a1-819c-4b0d-98a6-8fa63335713f",
   "metadata": {},
   "source": [
    "### Section C: Exploring Pandas"
   ]
  },
  {
   "cell_type": "raw",
   "id": "6e03923b-7b60-4fa4-8ff6-a9b253304bf8",
   "metadata": {},
   "source": [
    "11. Create a small DataFrame manually with 10 rows and columns: 'Name', 'Age', 'City', and 'Salary'.Then: \n",
    "- Use .info(), .describe() \n",
    "- Select 'Name' and 'City' columns \n",
    "- Drop 'City' column \n",
    "- Fill any missing values in 'Salary' column with the mean \n",
    "- Remove any duplicate rows"
   ]
  },
  {
   "cell_type": "code",
   "execution_count": 31,
   "id": "70a1eb69-5a48-4788-9a2b-64e0f5b557d3",
   "metadata": {},
   "outputs": [
    {
     "data": {
      "text/html": [
       "<div>\n",
       "<style scoped>\n",
       "    .dataframe tbody tr th:only-of-type {\n",
       "        vertical-align: middle;\n",
       "    }\n",
       "\n",
       "    .dataframe tbody tr th {\n",
       "        vertical-align: top;\n",
       "    }\n",
       "\n",
       "    .dataframe thead th {\n",
       "        text-align: right;\n",
       "    }\n",
       "</style>\n",
       "<table border=\"1\" class=\"dataframe\">\n",
       "  <thead>\n",
       "    <tr style=\"text-align: right;\">\n",
       "      <th></th>\n",
       "      <th>Name</th>\n",
       "      <th>Age</th>\n",
       "      <th>City</th>\n",
       "      <th>Salary</th>\n",
       "    </tr>\n",
       "  </thead>\n",
       "  <tbody>\n",
       "    <tr>\n",
       "      <th>0</th>\n",
       "      <td>Amal</td>\n",
       "      <td>20</td>\n",
       "      <td>chennai</td>\n",
       "      <td>10000.0</td>\n",
       "    </tr>\n",
       "    <tr>\n",
       "      <th>1</th>\n",
       "      <td>Abhi</td>\n",
       "      <td>23</td>\n",
       "      <td>Bangalore</td>\n",
       "      <td>12000.0</td>\n",
       "    </tr>\n",
       "    <tr>\n",
       "      <th>2</th>\n",
       "      <td>Anu</td>\n",
       "      <td>18</td>\n",
       "      <td>Chennai</td>\n",
       "      <td>NaN</td>\n",
       "    </tr>\n",
       "    <tr>\n",
       "      <th>3</th>\n",
       "      <td>Shreya</td>\n",
       "      <td>19</td>\n",
       "      <td>Pune</td>\n",
       "      <td>20000.0</td>\n",
       "    </tr>\n",
       "    <tr>\n",
       "      <th>4</th>\n",
       "      <td>Thanu</td>\n",
       "      <td>22</td>\n",
       "      <td>Bangalore</td>\n",
       "      <td>12000.0</td>\n",
       "    </tr>\n",
       "    <tr>\n",
       "      <th>5</th>\n",
       "      <td>Rahul</td>\n",
       "      <td>21</td>\n",
       "      <td>Pune</td>\n",
       "      <td>NaN</td>\n",
       "    </tr>\n",
       "    <tr>\n",
       "      <th>6</th>\n",
       "      <td>Martin</td>\n",
       "      <td>23</td>\n",
       "      <td>Mumbai</td>\n",
       "      <td>25000.0</td>\n",
       "    </tr>\n",
       "    <tr>\n",
       "      <th>7</th>\n",
       "      <td>Amal</td>\n",
       "      <td>20</td>\n",
       "      <td>Chennai</td>\n",
       "      <td>10000.0</td>\n",
       "    </tr>\n",
       "    <tr>\n",
       "      <th>8</th>\n",
       "      <td>Eza</td>\n",
       "      <td>24</td>\n",
       "      <td>Mumbai</td>\n",
       "      <td>30000.0</td>\n",
       "    </tr>\n",
       "    <tr>\n",
       "      <th>9</th>\n",
       "      <td>Zenha</td>\n",
       "      <td>20</td>\n",
       "      <td>Pune</td>\n",
       "      <td>20000.0</td>\n",
       "    </tr>\n",
       "  </tbody>\n",
       "</table>\n",
       "</div>"
      ],
      "text/plain": [
       "     Name  Age       City   Salary\n",
       "0    Amal   20    chennai  10000.0\n",
       "1    Abhi   23  Bangalore  12000.0\n",
       "2     Anu   18    Chennai      NaN\n",
       "3  Shreya   19       Pune  20000.0\n",
       "4   Thanu   22  Bangalore  12000.0\n",
       "5   Rahul   21       Pune      NaN\n",
       "6  Martin   23     Mumbai  25000.0\n",
       "7    Amal   20    Chennai  10000.0\n",
       "8     Eza   24     Mumbai  30000.0\n",
       "9   Zenha   20       Pune  20000.0"
      ]
     },
     "execution_count": 31,
     "metadata": {},
     "output_type": "execute_result"
    }
   ],
   "source": [
    "Df=pd.DataFrame({\n",
    "    'Name':['Amal','Abhi','Anu','Shreya','Thanu','Rahul','Martin','Amal','Eza','Zenha'],\n",
    "    'Age':[20,23,18,19,22,21,23,20,24,20],\n",
    "    'City':['chennai','Bangalore','Chennai','Pune','Bangalore','Pune','Mumbai','Chennai','Mumbai','Pune'],\n",
    "    'Salary':[10000,12000,np.nan,20000,12000,np.nan,25000,10000,30000,20000]})\n",
    "Df"
   ]
  },
  {
   "cell_type": "code",
   "execution_count": 32,
   "id": "86442cb9-ee47-4da4-93f0-eebdea691934",
   "metadata": {},
   "outputs": [
    {
     "name": "stdout",
     "output_type": "stream",
     "text": [
      "<class 'pandas.core.frame.DataFrame'>\n",
      "RangeIndex: 10 entries, 0 to 9\n",
      "Data columns (total 4 columns):\n",
      " #   Column  Non-Null Count  Dtype  \n",
      "---  ------  --------------  -----  \n",
      " 0   Name    10 non-null     object \n",
      " 1   Age     10 non-null     int64  \n",
      " 2   City    10 non-null     object \n",
      " 3   Salary  8 non-null      float64\n",
      "dtypes: float64(1), int64(1), object(2)\n",
      "memory usage: 452.0+ bytes\n"
     ]
    }
   ],
   "source": [
    "##info\n",
    "Df.info()"
   ]
  },
  {
   "cell_type": "code",
   "execution_count": 33,
   "id": "2788df12-813d-4c6f-adea-89b49daa7cf1",
   "metadata": {},
   "outputs": [
    {
     "data": {
      "text/html": [
       "<div>\n",
       "<style scoped>\n",
       "    .dataframe tbody tr th:only-of-type {\n",
       "        vertical-align: middle;\n",
       "    }\n",
       "\n",
       "    .dataframe tbody tr th {\n",
       "        vertical-align: top;\n",
       "    }\n",
       "\n",
       "    .dataframe thead th {\n",
       "        text-align: right;\n",
       "    }\n",
       "</style>\n",
       "<table border=\"1\" class=\"dataframe\">\n",
       "  <thead>\n",
       "    <tr style=\"text-align: right;\">\n",
       "      <th></th>\n",
       "      <th>Age</th>\n",
       "      <th>Salary</th>\n",
       "    </tr>\n",
       "  </thead>\n",
       "  <tbody>\n",
       "    <tr>\n",
       "      <th>count</th>\n",
       "      <td>10.000000</td>\n",
       "      <td>8.000000</td>\n",
       "    </tr>\n",
       "    <tr>\n",
       "      <th>mean</th>\n",
       "      <td>21.000000</td>\n",
       "      <td>17375.000000</td>\n",
       "    </tr>\n",
       "    <tr>\n",
       "      <th>std</th>\n",
       "      <td>1.943651</td>\n",
       "      <td>7539.183359</td>\n",
       "    </tr>\n",
       "    <tr>\n",
       "      <th>min</th>\n",
       "      <td>18.000000</td>\n",
       "      <td>10000.000000</td>\n",
       "    </tr>\n",
       "    <tr>\n",
       "      <th>25%</th>\n",
       "      <td>20.000000</td>\n",
       "      <td>11500.000000</td>\n",
       "    </tr>\n",
       "    <tr>\n",
       "      <th>50%</th>\n",
       "      <td>20.500000</td>\n",
       "      <td>16000.000000</td>\n",
       "    </tr>\n",
       "    <tr>\n",
       "      <th>75%</th>\n",
       "      <td>22.750000</td>\n",
       "      <td>21250.000000</td>\n",
       "    </tr>\n",
       "    <tr>\n",
       "      <th>max</th>\n",
       "      <td>24.000000</td>\n",
       "      <td>30000.000000</td>\n",
       "    </tr>\n",
       "  </tbody>\n",
       "</table>\n",
       "</div>"
      ],
      "text/plain": [
       "             Age        Salary\n",
       "count  10.000000      8.000000\n",
       "mean   21.000000  17375.000000\n",
       "std     1.943651   7539.183359\n",
       "min    18.000000  10000.000000\n",
       "25%    20.000000  11500.000000\n",
       "50%    20.500000  16000.000000\n",
       "75%    22.750000  21250.000000\n",
       "max    24.000000  30000.000000"
      ]
     },
     "execution_count": 33,
     "metadata": {},
     "output_type": "execute_result"
    }
   ],
   "source": [
    "##describe\n",
    "Df.describe()"
   ]
  },
  {
   "cell_type": "code",
   "execution_count": 34,
   "id": "eb6bde41-2783-408f-92b0-fb775f7b47bf",
   "metadata": {},
   "outputs": [
    {
     "data": {
      "text/html": [
       "<div>\n",
       "<style scoped>\n",
       "    .dataframe tbody tr th:only-of-type {\n",
       "        vertical-align: middle;\n",
       "    }\n",
       "\n",
       "    .dataframe tbody tr th {\n",
       "        vertical-align: top;\n",
       "    }\n",
       "\n",
       "    .dataframe thead th {\n",
       "        text-align: right;\n",
       "    }\n",
       "</style>\n",
       "<table border=\"1\" class=\"dataframe\">\n",
       "  <thead>\n",
       "    <tr style=\"text-align: right;\">\n",
       "      <th></th>\n",
       "      <th>Name</th>\n",
       "      <th>City</th>\n",
       "    </tr>\n",
       "  </thead>\n",
       "  <tbody>\n",
       "    <tr>\n",
       "      <th>0</th>\n",
       "      <td>Amal</td>\n",
       "      <td>chennai</td>\n",
       "    </tr>\n",
       "    <tr>\n",
       "      <th>1</th>\n",
       "      <td>Abhi</td>\n",
       "      <td>Bangalore</td>\n",
       "    </tr>\n",
       "    <tr>\n",
       "      <th>2</th>\n",
       "      <td>Anu</td>\n",
       "      <td>Chennai</td>\n",
       "    </tr>\n",
       "    <tr>\n",
       "      <th>3</th>\n",
       "      <td>Shreya</td>\n",
       "      <td>Pune</td>\n",
       "    </tr>\n",
       "    <tr>\n",
       "      <th>4</th>\n",
       "      <td>Thanu</td>\n",
       "      <td>Bangalore</td>\n",
       "    </tr>\n",
       "    <tr>\n",
       "      <th>5</th>\n",
       "      <td>Rahul</td>\n",
       "      <td>Pune</td>\n",
       "    </tr>\n",
       "    <tr>\n",
       "      <th>6</th>\n",
       "      <td>Martin</td>\n",
       "      <td>Mumbai</td>\n",
       "    </tr>\n",
       "    <tr>\n",
       "      <th>7</th>\n",
       "      <td>Amal</td>\n",
       "      <td>Chennai</td>\n",
       "    </tr>\n",
       "    <tr>\n",
       "      <th>8</th>\n",
       "      <td>Eza</td>\n",
       "      <td>Mumbai</td>\n",
       "    </tr>\n",
       "    <tr>\n",
       "      <th>9</th>\n",
       "      <td>Zenha</td>\n",
       "      <td>Pune</td>\n",
       "    </tr>\n",
       "  </tbody>\n",
       "</table>\n",
       "</div>"
      ],
      "text/plain": [
       "     Name       City\n",
       "0    Amal    chennai\n",
       "1    Abhi  Bangalore\n",
       "2     Anu    Chennai\n",
       "3  Shreya       Pune\n",
       "4   Thanu  Bangalore\n",
       "5   Rahul       Pune\n",
       "6  Martin     Mumbai\n",
       "7    Amal    Chennai\n",
       "8     Eza     Mumbai\n",
       "9   Zenha       Pune"
      ]
     },
     "execution_count": 34,
     "metadata": {},
     "output_type": "execute_result"
    }
   ],
   "source": [
    "## Name and city\n",
    "Df[['Name','City']]"
   ]
  },
  {
   "cell_type": "code",
   "execution_count": 35,
   "id": "2e5c9886-b1e6-4042-b46f-9904d742ada5",
   "metadata": {},
   "outputs": [
    {
     "data": {
      "text/html": [
       "<div>\n",
       "<style scoped>\n",
       "    .dataframe tbody tr th:only-of-type {\n",
       "        vertical-align: middle;\n",
       "    }\n",
       "\n",
       "    .dataframe tbody tr th {\n",
       "        vertical-align: top;\n",
       "    }\n",
       "\n",
       "    .dataframe thead th {\n",
       "        text-align: right;\n",
       "    }\n",
       "</style>\n",
       "<table border=\"1\" class=\"dataframe\">\n",
       "  <thead>\n",
       "    <tr style=\"text-align: right;\">\n",
       "      <th></th>\n",
       "      <th>Name</th>\n",
       "      <th>Age</th>\n",
       "      <th>Salary</th>\n",
       "    </tr>\n",
       "  </thead>\n",
       "  <tbody>\n",
       "    <tr>\n",
       "      <th>0</th>\n",
       "      <td>Amal</td>\n",
       "      <td>20</td>\n",
       "      <td>10000.0</td>\n",
       "    </tr>\n",
       "    <tr>\n",
       "      <th>1</th>\n",
       "      <td>Abhi</td>\n",
       "      <td>23</td>\n",
       "      <td>12000.0</td>\n",
       "    </tr>\n",
       "    <tr>\n",
       "      <th>2</th>\n",
       "      <td>Anu</td>\n",
       "      <td>18</td>\n",
       "      <td>NaN</td>\n",
       "    </tr>\n",
       "    <tr>\n",
       "      <th>3</th>\n",
       "      <td>Shreya</td>\n",
       "      <td>19</td>\n",
       "      <td>20000.0</td>\n",
       "    </tr>\n",
       "    <tr>\n",
       "      <th>4</th>\n",
       "      <td>Thanu</td>\n",
       "      <td>22</td>\n",
       "      <td>12000.0</td>\n",
       "    </tr>\n",
       "    <tr>\n",
       "      <th>5</th>\n",
       "      <td>Rahul</td>\n",
       "      <td>21</td>\n",
       "      <td>NaN</td>\n",
       "    </tr>\n",
       "    <tr>\n",
       "      <th>6</th>\n",
       "      <td>Martin</td>\n",
       "      <td>23</td>\n",
       "      <td>25000.0</td>\n",
       "    </tr>\n",
       "    <tr>\n",
       "      <th>7</th>\n",
       "      <td>Amal</td>\n",
       "      <td>20</td>\n",
       "      <td>10000.0</td>\n",
       "    </tr>\n",
       "    <tr>\n",
       "      <th>8</th>\n",
       "      <td>Eza</td>\n",
       "      <td>24</td>\n",
       "      <td>30000.0</td>\n",
       "    </tr>\n",
       "    <tr>\n",
       "      <th>9</th>\n",
       "      <td>Zenha</td>\n",
       "      <td>20</td>\n",
       "      <td>20000.0</td>\n",
       "    </tr>\n",
       "  </tbody>\n",
       "</table>\n",
       "</div>"
      ],
      "text/plain": [
       "     Name  Age   Salary\n",
       "0    Amal   20  10000.0\n",
       "1    Abhi   23  12000.0\n",
       "2     Anu   18      NaN\n",
       "3  Shreya   19  20000.0\n",
       "4   Thanu   22  12000.0\n",
       "5   Rahul   21      NaN\n",
       "6  Martin   23  25000.0\n",
       "7    Amal   20  10000.0\n",
       "8     Eza   24  30000.0\n",
       "9   Zenha   20  20000.0"
      ]
     },
     "execution_count": 35,
     "metadata": {},
     "output_type": "execute_result"
    }
   ],
   "source": [
    "## drop city\n",
    "Df.drop(columns=['City'],inplace=True)\n",
    "Df"
   ]
  },
  {
   "cell_type": "code",
   "execution_count": 36,
   "id": "2c9f1208-8731-4ccf-b680-bbcbdf01d002",
   "metadata": {},
   "outputs": [
    {
     "data": {
      "text/plain": [
       "Name      0\n",
       "Age       0\n",
       "Salary    2\n",
       "dtype: int64"
      ]
     },
     "execution_count": 36,
     "metadata": {},
     "output_type": "execute_result"
    }
   ],
   "source": [
    "##fill null values  in salary using mean\n",
    "Df.isnull().sum()"
   ]
  },
  {
   "cell_type": "code",
   "execution_count": 37,
   "id": "98f0a7fc-fba4-4f47-9553-37d56b48595d",
   "metadata": {},
   "outputs": [
    {
     "data": {
      "text/html": [
       "<div>\n",
       "<style scoped>\n",
       "    .dataframe tbody tr th:only-of-type {\n",
       "        vertical-align: middle;\n",
       "    }\n",
       "\n",
       "    .dataframe tbody tr th {\n",
       "        vertical-align: top;\n",
       "    }\n",
       "\n",
       "    .dataframe thead th {\n",
       "        text-align: right;\n",
       "    }\n",
       "</style>\n",
       "<table border=\"1\" class=\"dataframe\">\n",
       "  <thead>\n",
       "    <tr style=\"text-align: right;\">\n",
       "      <th></th>\n",
       "      <th>Name</th>\n",
       "      <th>Age</th>\n",
       "      <th>Salary</th>\n",
       "    </tr>\n",
       "  </thead>\n",
       "  <tbody>\n",
       "    <tr>\n",
       "      <th>0</th>\n",
       "      <td>Amal</td>\n",
       "      <td>20</td>\n",
       "      <td>10000.0</td>\n",
       "    </tr>\n",
       "    <tr>\n",
       "      <th>1</th>\n",
       "      <td>Abhi</td>\n",
       "      <td>23</td>\n",
       "      <td>12000.0</td>\n",
       "    </tr>\n",
       "    <tr>\n",
       "      <th>2</th>\n",
       "      <td>Anu</td>\n",
       "      <td>18</td>\n",
       "      <td>17375.0</td>\n",
       "    </tr>\n",
       "    <tr>\n",
       "      <th>3</th>\n",
       "      <td>Shreya</td>\n",
       "      <td>19</td>\n",
       "      <td>20000.0</td>\n",
       "    </tr>\n",
       "    <tr>\n",
       "      <th>4</th>\n",
       "      <td>Thanu</td>\n",
       "      <td>22</td>\n",
       "      <td>12000.0</td>\n",
       "    </tr>\n",
       "    <tr>\n",
       "      <th>5</th>\n",
       "      <td>Rahul</td>\n",
       "      <td>21</td>\n",
       "      <td>17375.0</td>\n",
       "    </tr>\n",
       "    <tr>\n",
       "      <th>6</th>\n",
       "      <td>Martin</td>\n",
       "      <td>23</td>\n",
       "      <td>25000.0</td>\n",
       "    </tr>\n",
       "    <tr>\n",
       "      <th>7</th>\n",
       "      <td>Amal</td>\n",
       "      <td>20</td>\n",
       "      <td>10000.0</td>\n",
       "    </tr>\n",
       "    <tr>\n",
       "      <th>8</th>\n",
       "      <td>Eza</td>\n",
       "      <td>24</td>\n",
       "      <td>30000.0</td>\n",
       "    </tr>\n",
       "    <tr>\n",
       "      <th>9</th>\n",
       "      <td>Zenha</td>\n",
       "      <td>20</td>\n",
       "      <td>20000.0</td>\n",
       "    </tr>\n",
       "  </tbody>\n",
       "</table>\n",
       "</div>"
      ],
      "text/plain": [
       "     Name  Age   Salary\n",
       "0    Amal   20  10000.0\n",
       "1    Abhi   23  12000.0\n",
       "2     Anu   18  17375.0\n",
       "3  Shreya   19  20000.0\n",
       "4   Thanu   22  12000.0\n",
       "5   Rahul   21  17375.0\n",
       "6  Martin   23  25000.0\n",
       "7    Amal   20  10000.0\n",
       "8     Eza   24  30000.0\n",
       "9   Zenha   20  20000.0"
      ]
     },
     "execution_count": 37,
     "metadata": {},
     "output_type": "execute_result"
    }
   ],
   "source": [
    "Df['Salary']=Df['Salary'].fillna(Df['Salary'].mean())\n",
    "Df"
   ]
  },
  {
   "cell_type": "code",
   "execution_count": 38,
   "id": "10afc191-7289-4661-bc4c-fb4f665e71dc",
   "metadata": {},
   "outputs": [
    {
     "data": {
      "text/html": [
       "<div>\n",
       "<style scoped>\n",
       "    .dataframe tbody tr th:only-of-type {\n",
       "        vertical-align: middle;\n",
       "    }\n",
       "\n",
       "    .dataframe tbody tr th {\n",
       "        vertical-align: top;\n",
       "    }\n",
       "\n",
       "    .dataframe thead th {\n",
       "        text-align: right;\n",
       "    }\n",
       "</style>\n",
       "<table border=\"1\" class=\"dataframe\">\n",
       "  <thead>\n",
       "    <tr style=\"text-align: right;\">\n",
       "      <th></th>\n",
       "      <th>Name</th>\n",
       "      <th>Age</th>\n",
       "      <th>Salary</th>\n",
       "    </tr>\n",
       "  </thead>\n",
       "  <tbody>\n",
       "    <tr>\n",
       "      <th>7</th>\n",
       "      <td>Amal</td>\n",
       "      <td>20</td>\n",
       "      <td>10000.0</td>\n",
       "    </tr>\n",
       "  </tbody>\n",
       "</table>\n",
       "</div>"
      ],
      "text/plain": [
       "   Name  Age   Salary\n",
       "7  Amal   20  10000.0"
      ]
     },
     "execution_count": 38,
     "metadata": {},
     "output_type": "execute_result"
    }
   ],
   "source": [
    "##Duplicated values\n",
    "Df.duplicated().sum()\n",
    "Df[Df.duplicated()]"
   ]
  },
  {
   "cell_type": "markdown",
   "id": "cc804bd2-8dee-4396-975c-831878b04ab8",
   "metadata": {},
   "source": [
    "## Df.drop_duplicates(ignore_index=True,inplace=True)\n",
    "Df"
   ]
  }
 ],
 "metadata": {
  "kernelspec": {
   "display_name": "Python 3 (ipykernel)",
   "language": "python",
   "name": "python3"
  },
  "language_info": {
   "codemirror_mode": {
    "name": "ipython",
    "version": 3
   },
   "file_extension": ".py",
   "mimetype": "text/x-python",
   "name": "python",
   "nbconvert_exporter": "python",
   "pygments_lexer": "ipython3",
   "version": "3.13.5"
  }
 },
 "nbformat": 4,
 "nbformat_minor": 5
}
